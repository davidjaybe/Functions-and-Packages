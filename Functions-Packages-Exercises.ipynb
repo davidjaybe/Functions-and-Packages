{
 "cells": [
  {
   "cell_type": "code",
   "execution_count": null,
   "id": "9fde6d14-23cf-42e1-8b21-a6469477fffb",
   "metadata": {},
   "outputs": [],
   "source": [
    "def cobbdouglas(K=1, L=1, A=1, alpha=0.3):\n",
    "    y = A* (K**alpha) * (L**(1-alpha))\n",
    "    return y\n",
    "print(cobbdouglas(4,9,2,0.5))"
   ]
  },
  {
   "cell_type": "code",
   "execution_count": null,
   "id": "dd60d307-602e-4d45-b06f-62596c806039",
   "metadata": {},
   "outputs": [],
   "source": [
    "import numpy as np\n",
    "import matplotlib as mpl\n",
    "import matplotlib.pyplot as plt\n",
    "%matplotlib widget\n",
    "\n",
    "K = np.linspace(0,5,100)\n",
    "i=0\n",
    "while i in K:\n",
    "    cobbdouglas(K[i])\n",
    "    i += 1\n",
    "    break\n",
    "fig, CD = plt.subplots(figsize=(3,3))\n",
    "CD.plot(cobbdouglas(K))\n",
    "CD.label=(r'$y=A*(K**alpha)*(L**(1-alpha))$')\n",
    "CD.set_xlabel(r'$K$', fontsize=18)\n",
    "CD.set_ylabel(r'Y', fontsize=18)\n",
    "CD.set_title(r'CD Prod func', fontsize=18)\n"
   ]
  },
  {
   "cell_type": "code",
   "execution_count": null,
   "id": "5c00bb77-5564-4745-be45-9624c8f01aee",
   "metadata": {},
   "outputs": [],
   "source": [
    "fig, A = plt.subplots(figsize=(3,3))\n",
    "\n",
    "A.plot(cobbdouglas(K,2), linestyle='--', label=r'$L=2$')\n",
    "A.plot(cobbdouglas(K,4), linestyle='--', label=r'$L=4$')\n",
    "A.plot(cobbdouglas(K,5), linestyle='--', label=r'$L=5$')\n",
    "A.set_title(r'Tech at 2, 4, 5', fontsize=24)\n",
    "A.set_xlabel(r'$Y$', fontsize=18)\n",
    "A.set_ylabel(r'K', fontsize=18)\n",
    "\n",
    "plt.legend(fontsize=8)\n"
   ]
  },
  {
   "cell_type": "code",
   "execution_count": null,
   "id": "1f7ce574-c8b9-412d-bfcc-939a43a96d15",
   "metadata": {},
   "outputs": [],
   "source": [
    "fig, L = plt.subplots(figsize=(3,3))\n",
    "\n",
    "L.plot(cobbdouglas(K,2), linestyle='--', label=r'$L=2$')\n",
    "L.plot(cobbdouglas(K,4), linestyle='--', label=r'$L=4$')\n",
    "L.plot(cobbdouglas(K,5), linestyle='--', label=r'$L=5$')\n",
    "L.set_title(r'Labor at 2, 4, 5', fontsize=24)\n",
    "L.set_xlabel(r'$Y$', fontsize=18)\n",
    "L.set_ylabel(r'K', fontsize=18)\n",
    "\n",
    "plt.legend(fontsize=8)\n"
   ]
  },
  {
   "cell_type": "code",
   "execution_count": null,
   "id": "e60c6390-8206-4e9b-af9b-69dae968e544",
   "metadata": {},
   "outputs": [],
   "source": [
    "plt.savefig('./pics/cobbdouglas.png')\n",
    "plt.savefig('./pics/cobbdouglas.pdf')\n",
    "plt.savefig('./pics/cobbdouglas.jpeg')"
   ]
  }
 ],
 "metadata": {
  "kernelspec": {
   "display_name": "Python 3 (ipykernel)",
   "language": "python",
   "name": "python3"
  },
  "language_info": {
   "codemirror_mode": {
    "name": "ipython",
    "version": 3
   },
   "file_extension": ".py",
   "mimetype": "text/x-python",
   "name": "python",
   "nbconvert_exporter": "python",
   "pygments_lexer": "ipython3",
   "version": "3.9.13"
  }
 },
 "nbformat": 4,
 "nbformat_minor": 5
}
